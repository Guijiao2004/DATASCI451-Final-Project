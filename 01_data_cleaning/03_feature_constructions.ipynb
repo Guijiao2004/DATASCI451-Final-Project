{
 "cells": [
  {
   "cell_type": "code",
   "execution_count": 25,
   "id": "69b1c6a4",
   "metadata": {},
   "outputs": [],
   "source": [
    "import numpy as np\n",
    "import pandas as pd\n",
    "import matplotlib.pyplot as plt"
   ]
  },
  {
   "cell_type": "code",
   "execution_count": 26,
   "id": "c071d8b4",
   "metadata": {},
   "outputs": [],
   "source": [
    "# Import data\n",
    "athletes = pd.read_csv(\"data/athletes.csv\")\n",
    "counts = pd.read_csv(\"data/counts.csv\")\n",
    "\n",
    "# This dataframe will be the final output\n",
    "# Initialize as all columns of counts except 'Rank'\n",
    "olympics = counts.drop(columns=['Rank'])\n",
    "\n",
    "# Order by 'NOC' and 'Year'\n",
    "olympics = olympics.sort_values(by=['NOC', 'Year'])"
   ]
  },
  {
   "cell_type": "code",
   "execution_count": 27,
   "id": "92b8d852",
   "metadata": {},
   "outputs": [],
   "source": [
    "# Feature 1: Total number of athletes per NOC and Year\n",
    "olympics = olympics.merge(\n",
    "    athletes.groupby(['NOC', 'Year']).size().reset_index(name='#Athletes'),\n",
    "    on=['NOC', 'Year'],\n",
    "    how='left'\n",
    ")"
   ]
  },
  {
   "cell_type": "code",
   "execution_count": 28,
   "id": "d25dcf30",
   "metadata": {},
   "outputs": [],
   "source": [
    "# Feature 2: Total number of events per NOC and Year\n",
    "olympics = olympics.merge(\n",
    "    athletes.groupby(['NOC', 'Year'])['Event'].nunique().reset_index(name='#Events'),\n",
    "    on=['NOC', 'Year'],\n",
    "    how='left'\n",
    ")"
   ]
  },
  {
   "cell_type": "code",
   "execution_count": 29,
   "id": "093c74cb",
   "metadata": {},
   "outputs": [],
   "source": [
    "# Feature 3: Dummy variable for host country\n",
    "# The year when the selected NOC hosted the Olympics\n",
    "# are manually constructed from the data summerOly_host.csv\n",
    "\n",
    "host_years = {\n",
    "    'USA': [1904, 1932, 1984, 1996, 2028],\n",
    "    'CHN': [2008],\n",
    "    'JPN': [1964, 2020],\n",
    "    'AUS': [1956, 2000],\n",
    "    'FRA': [1900, 1924, 1968, 1992],\n",
    "}\n",
    "\n",
    "# Create the column 'isHost'\n",
    "olympics['IsHost'] = olympics.apply(\n",
    "    lambda row: 1 if row['Year'] in host_years[row['NOC']] else 0,\n",
    "    axis=1\n",
    ")"
   ]
  },
  {
   "cell_type": "code",
   "execution_count": 30,
   "id": "0605f0b8",
   "metadata": {},
   "outputs": [],
   "source": [
    "# Save the final data\n",
    "olympics.to_csv(\"data/olympics.csv\", index=False)"
   ]
  }
 ],
 "metadata": {
  "kernelspec": {
   "display_name": ".venv",
   "language": "python",
   "name": "python3"
  },
  "language_info": {
   "codemirror_mode": {
    "name": "ipython",
    "version": 3
   },
   "file_extension": ".py",
   "mimetype": "text/x-python",
   "name": "python",
   "nbconvert_exporter": "python",
   "pygments_lexer": "ipython3",
   "version": "3.13.2"
  }
 },
 "nbformat": 4,
 "nbformat_minor": 5
}
