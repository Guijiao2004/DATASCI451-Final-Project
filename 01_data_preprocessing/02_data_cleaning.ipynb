{
 "cells": [
  {
   "cell_type": "code",
   "execution_count": 1,
   "id": "cc2d45ea",
   "metadata": {},
   "outputs": [],
   "source": [
    "import numpy as np\n",
    "import pandas as pd\n",
    "import matplotlib.pyplot as plt"
   ]
  },
  {
   "cell_type": "code",
   "execution_count": 2,
   "id": "9306c0c1",
   "metadata": {},
   "outputs": [],
   "source": [
    "# Import data\n",
    "athletes = pd.read_csv(\"../data/summerOly_athletes.csv\")\n",
    "counts = pd.read_csv(\"../data/summerOly_medal_counts.csv\")"
   ]
  },
  {
   "cell_type": "code",
   "execution_count": 3,
   "id": "a926ec08",
   "metadata": {},
   "outputs": [],
   "source": [
    "# Country Names Conversion\n",
    "# In the counts data, the format of country names are\n",
    "# full names, e.g. \"United States\", instead of NOC codes\n",
    "# We need to convert them to NOC codes to match the athletes data\n",
    "\n",
    "correspondence = {\n",
    "    \"United States\": \"USA\",\n",
    "    \"China\": \"CHN\",\n",
    "    \"Japan\": \"JPN\",\n",
    "    \"Australia\": \"AUS\",\n",
    "    \"France\": \"FRA\"\n",
    "}\n",
    "\n",
    "counts = counts[counts[\"NOC\"].isin(correspondence.keys())]\n",
    "counts[\"NOC\"] = counts[\"NOC\"].apply(lambda x: correspondence[x])\n",
    "\n",
    "# Delete missing values and save the data\n",
    "counts.dropna()\n",
    "counts.to_csv(\"data/counts.csv\", index=False)"
   ]
  },
  {
   "cell_type": "code",
   "execution_count": 4,
   "id": "cec9246d",
   "metadata": {},
   "outputs": [],
   "source": [
    "# Add the column \"haveMedal\" for each athlete\n",
    "# 0 for no medal, 1 for gold, silver, or bronze\n",
    "\n",
    "athletes = athletes[athletes[\"NOC\"].isin(correspondence.values())]\n",
    "athletes[\"haveMedal\"] = athletes[\"Medal\"].apply(\n",
    "    lambda x: 1 if x in [\"Gold\", \"Silver\", \"Bronze\"] else 0\n",
    ").astype(int)\n",
    "\n",
    "# Delete missing values and save the data\n",
    "athletes.dropna()\n",
    "athletes.to_csv(\"data/athletes.csv\", index=False)"
   ]
  }
 ],
 "metadata": {
  "kernelspec": {
   "display_name": ".venv",
   "language": "python",
   "name": "python3"
  },
  "language_info": {
   "codemirror_mode": {
    "name": "ipython",
    "version": 3
   },
   "file_extension": ".py",
   "mimetype": "text/x-python",
   "name": "python",
   "nbconvert_exporter": "python",
   "pygments_lexer": "ipython3",
   "version": "3.13.3"
  }
 },
 "nbformat": 4,
 "nbformat_minor": 5
}
