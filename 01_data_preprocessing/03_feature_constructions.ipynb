{
 "cells": [
  {
   "cell_type": "code",
   "execution_count": 1,
   "id": "69b1c6a4",
   "metadata": {},
   "outputs": [],
   "source": [
    "import numpy as np\n",
    "import pandas as pd\n",
    "import matplotlib.pyplot as plt"
   ]
  },
  {
   "cell_type": "code",
   "execution_count": 2,
   "id": "c071d8b4",
   "metadata": {},
   "outputs": [],
   "source": [
    "# Import data\n",
    "athletes = pd.read_csv(\"data/athletes.csv\")\n",
    "counts = pd.read_csv(\"data/counts.csv\")\n",
    "\n",
    "# This dataframe will be the final output\n",
    "# Initialize as all columns of counts except 'Rank'\n",
    "olympics = counts.drop(columns=['Rank'])\n",
    "\n",
    "# Order by 'NOC' and 'Year'\n",
    "olympics = olympics.sort_values(by=['NOC', 'Year'])\n",
    "olympics = olympics[olympics['Year'] >= 1944]"
   ]
  },
  {
   "cell_type": "code",
   "execution_count": 3,
   "id": "92b8d852",
   "metadata": {},
   "outputs": [],
   "source": [
    "# Feature 1: Total number of athletes per NOC and Year\n",
    "olympics = olympics.merge(\n",
    "    athletes.groupby(['NOC', 'Year']).size().reset_index(name='X.Athletes'),\n",
    "    on=['NOC', 'Year'],\n",
    "    how='left'\n",
    ")"
   ]
  },
  {
   "cell_type": "code",
   "execution_count": 4,
   "id": "d25dcf30",
   "metadata": {},
   "outputs": [],
   "source": [
    "# Feature 2: Total number of events per NOC and Year\n",
    "olympics = olympics.merge(\n",
    "    athletes.groupby(['NOC', 'Year'])['Event'].nunique().reset_index(name='X.Events'),\n",
    "    on=['NOC', 'Year'],\n",
    "    how='left'\n",
    ")"
   ]
  },
  {
   "cell_type": "code",
   "execution_count": 5,
   "id": "093c74cb",
   "metadata": {},
   "outputs": [],
   "source": [
    "# Feature 3: Dummy variable for host country\n",
    "# The year when the selected NOC hosted the Olympics\n",
    "# are manually constructed from the data summerOly_host.csv\n",
    "\n",
    "host_years = {\n",
    "    'USA': [1904, 1932, 1984, 1996, 2028],\n",
    "    'CHN': [2008],\n",
    "    'JPN': [1964, 2020],\n",
    "    'AUS': [1956, 2000],\n",
    "    'FRA': [1900, 1924, 1968, 1992, 2024],\n",
    "}\n",
    "\n",
    "# Create the column 'isHost'\n",
    "olympics['IsHost'] = olympics.apply(\n",
    "    lambda row: 1 if row['Year'] in host_years[row['NOC']] else 0,\n",
    "    axis=1\n",
    ")"
   ]
  },
  {
   "cell_type": "code",
   "execution_count": 6,
   "id": "e1d00da4",
   "metadata": {},
   "outputs": [],
   "source": [
    "# Add country index\n",
    "olympics[\"Country_id\"] = olympics[\"NOC\"].map({\n",
    "    'USA': 1,\n",
    "    'CHN': 2,\n",
    "    'JPN': 3,\n",
    "    'AUS': 4,\n",
    "    'FRA': 5,\n",
    "})"
   ]
  },
  {
   "cell_type": "code",
   "execution_count": 7,
   "id": "fcc1ce11",
   "metadata": {},
   "outputs": [],
   "source": [
    "# Add year index\n",
    "olympics[\"Year_id\"] = olympics[\"Year\"].apply(\n",
    "    lambda x: 1 + (int(x)-1896)/4\n",
    ")"
   ]
  },
  {
   "cell_type": "code",
   "execution_count": 8,
   "id": "0605f0b8",
   "metadata": {},
   "outputs": [],
   "source": [
    "# Save the final data\n",
    "olympics.to_csv(\"data/olympics.csv\", index=False)"
   ]
  },
  {
   "cell_type": "code",
   "execution_count": 24,
   "id": "63194c40",
   "metadata": {},
   "outputs": [],
   "source": [
    "# Trends in medal counts and number of athletes\n",
    "fig, axes = plt.subplots(\n",
    "    nrows=5, ncols=2,\n",
    "    figsize=(7.0, 10.0),\n",
    "    constrained_layout=True,\n",
    "    sharex=False\n",
    ")\n",
    "\n",
    "countries = [\"USA\", \"CHN\", \"JPN\", \"AUS\", \"FRA\"]\n",
    "\n",
    "for r, noc in enumerate(countries):\n",
    "    data = olympics[olympics[\"NOC\"] == noc]\n",
    "\n",
    "    ax_m = axes[r, 0]\n",
    "    ax_m.plot(data[\"Year\"], data[\"Gold\"],   marker=\"o\", label=\"Gold\")\n",
    "    ax_m.plot(data[\"Year\"], data[\"Silver\"], marker=\"o\", label=\"Silver\")\n",
    "    ax_m.plot(data[\"Year\"], data[\"Bronze\"], marker=\"o\", label=\"Bronze\")\n",
    "    ax_m.set_title(f\"{noc} - Medal Counts\", fontsize=12, fontweight=\"bold\")\n",
    "    ax_m.set_xlabel(\"Year\")\n",
    "    ax_m.set_ylabel(\"Count\")\n",
    "    ax_m.legend(frameon=False, ncol=3, loc=\"upper left\")\n",
    "\n",
    "    ax_a = axes[r, 1]\n",
    "    ax_a.plot(data[\"Year\"], data[\"X.Athletes\"],\n",
    "              marker=\"o\", color=\"tab:blue\")\n",
    "    ax_a.set_title(f\"{noc} - Number of Athletes\", fontsize=12, fontweight=\"bold\")\n",
    "    ax_a.set_xlabel(\"Year\")\n",
    "    ax_a.set_ylabel(\"Athletes\")\n",
    "\n",
    "fig.savefig(\"figures/trend.pdf\",\n",
    "            format=\"pdf\",\n",
    "            bbox_inches=\"tight\")\n",
    "\n",
    "plt.close(fig)"
   ]
  }
 ],
 "metadata": {
  "kernelspec": {
   "display_name": "base",
   "language": "python",
   "name": "python3"
  },
  "language_info": {
   "codemirror_mode": {
    "name": "ipython",
    "version": 3
   },
   "file_extension": ".py",
   "mimetype": "text/x-python",
   "name": "python",
   "nbconvert_exporter": "python",
   "pygments_lexer": "ipython3",
   "version": "3.12.4"
  }
 },
 "nbformat": 4,
 "nbformat_minor": 5
}
